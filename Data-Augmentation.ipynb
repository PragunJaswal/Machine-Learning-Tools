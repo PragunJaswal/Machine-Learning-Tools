{
 "cells": [
  {
   "cell_type": "code",
   "execution_count": 7,
   "id": "e2a60896",
   "metadata": {},
   "outputs": [],
   "source": [
    "import os\n",
    "import cv2\n",
    "import numpy as np\n",
    "from tensorflow.keras.preprocessing.image import ImageDataGenerator"
   ]
  },
  {
   "cell_type": "code",
   "execution_count": 8,
   "id": "384e3338",
   "metadata": {},
   "outputs": [],
   "source": [
    "main_data_dir = 'data'  # Change this to your main data directory path\n",
    "class_name = 'jamun'\n",
    "class_dir = os.path.join(main_data_dir, class_name)"
   ]
  },
  {
   "cell_type": "code",
   "execution_count": 9,
   "id": "4a4ed4a3",
   "metadata": {},
   "outputs": [],
   "source": [
    "# Create a directory for augmented images\n",
    "augmented_dir = os.path.join(main_data_dir, f'{class_name}_augmented')\n",
    "os.makedirs(augmented_dir, exist_ok=True)\n"
   ]
  },
  {
   "cell_type": "code",
   "execution_count": 10,
   "id": "bf53a3f3",
   "metadata": {},
   "outputs": [],
   "source": [
    "# Define the augmentation parameters\n",
    "datagen = ImageDataGenerator(\n",
    "    rotation_range=40,\n",
    "    width_shift_range=0.2,\n",
    "    height_shift_range=0.2,\n",
    "    shear_range=0.2,\n",
    "    zoom_range=0.2,\n",
    "    horizontal_flip=True,\n",
    "    fill_mode='nearest'\n",
    ")"
   ]
  },
  {
   "cell_type": "code",
   "execution_count": null,
   "id": "e2c66832",
   "metadata": {},
   "outputs": [],
   "source": [
    "\n",
    "# Iterate through each image in the class folder\n",
    "for img_file in os.listdir(class_dir):\n",
    "    img_path = os.path.join(class_dir, img_file)\n",
    "    img = cv2.imread(img_path)\n",
    "    img = cv2.cvtColor(img, cv2.COLOR_BGR2RGB)  # Convert to RGB format\n",
    "\n",
    "    # Reshape the image to (1, height, width, channels) for data generator\n",
    "    img = np.expand_dims(img, axis=0)\n",
    "\n",
    "    # Generate and save augmented images\n",
    "    for i in range(10):  # Augment each image 10 times\n",
    "        augmented_image = datagen.random_transform(img[0])  # Apply random transformation\n",
    "        augmented_image = augmented_image.astype(np.uint8)\n",
    "        augmented_image = cv2.cvtColor(augmented_image, cv2.COLOR_RGB2BGR)  # Convert back to BGR format\n",
    "        augmented_filename = f'{img_file.split(\".\")[0]}_aug{i}.jpg'\n",
    "        augmented_image_path = os.path.join(augmented_dir, augmented_filename)\n",
    "        cv2.imwrite(augmented_image_path, augmented_image)\n",
    "\n",
    "print(\"Data augmentation completed.\")"
   ]
  },
  {
   "cell_type": "code",
   "execution_count": null,
   "id": "33e1e886",
   "metadata": {},
   "outputs": [],
   "source": []
  }
 ],
 "metadata": {
  "kernelspec": {
   "display_name": "Python 3 (ipykernel)",
   "language": "python",
   "name": "python3"
  },
  "language_info": {
   "codemirror_mode": {
    "name": "ipython",
    "version": 3
   },
   "file_extension": ".py",
   "mimetype": "text/x-python",
   "name": "python",
   "nbconvert_exporter": "python",
   "pygments_lexer": "ipython3",
   "version": "3.9.12"
  }
 },
 "nbformat": 4,
 "nbformat_minor": 5
}
