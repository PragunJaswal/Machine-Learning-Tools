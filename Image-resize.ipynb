{
 "cells": [
  {
   "cell_type": "code",
   "execution_count": 2,
   "id": "e2a60896",
   "metadata": {},
   "outputs": [
    {
     "name": "stdout",
     "output_type": "stream",
     "text": [
      "Defaulting to user installation because normal site-packages is not writeable\n",
      "Requirement already satisfied: Pillow in c:\\programdata\\anaconda3\\lib\\site-packages (9.0.1)\n"
     ]
    }
   ],
   "source": [
    "!pip install Pillow"
   ]
  },
  {
   "cell_type": "code",
   "execution_count": 1,
   "id": "384e3338",
   "metadata": {},
   "outputs": [],
   "source": [
    "from PIL import Image\n",
    "import os\n"
   ]
  },
  {
   "cell_type": "code",
   "execution_count": 2,
   "id": "4a4ed4a3",
   "metadata": {},
   "outputs": [],
   "source": [
    "def resize_and_replace_images(directory):\n",
    "    for root, dirs, files in os.walk(directory):\n",
    "        for filename in files:\n",
    "            if filename.endswith(('.jpg', '.jpeg', '.png', '.bmp', '.gif')):\n",
    "                filepath = os.path.join(root, filename)\n",
    "                \n",
    "                try:\n",
    "                    # Open the image\n",
    "                    img = Image.open(filepath)\n",
    "                    \n",
    "                    # Resize to 500x500 pixels\n",
    "                    img = img.resize((500, 500), Image.ANTIALIAS)\n",
    "                    \n",
    "                    # Save the resized image, overwriting the original\n",
    "                    img.save(filepath)\n",
    "                    \n",
    "                    # Close the image\n",
    "                    img.close()\n",
    "                    \n",
    "                    print(f'Resized and replaced: {filepath}')\n",
    "                except Exception as e:\n",
    "                    print(f'Error processing {filepath}: {e}')\n",
    "                    continue"
   ]
  },
  {
   "cell_type": "code",
   "execution_count": 4,
   "id": "bf53a3f3",
   "metadata": {},
   "outputs": [
    {
     "name": "stdout",
     "output_type": "stream",
     "text": [
      "Resized and replaced: data/peepal\\-detailed-macro-photograph-of-peepal-leaf-with-blurred-background-1951656973.jpg\n",
      "Resized and replaced: data/peepal\\-indian-subcontinent-also-known-as-bodhi-tree-pimple-peepul-peepal-285849020.jpg\n",
      "Resized and replaced: data/peepal\\-land-plant-pipal-bodhi-leaves-awake-ness-ficus-religiosa-sacred-fig-1266942.jpg\n",
      "Resized and replaced: data/peepal\\0f5e5ced7bd610724bf9a047a2dc2721.jpg\n",
      "Resized and replaced: data/peepal\\1000_F_428161029_kS7VYkoXJ54D2E8vddKk5JqUVhGlwMaW.jpg\n",
      "Resized and replaced: data/peepal\\11joARKNEFL._AC_UF10001000_QL80_.jpg\n",
      "Resized and replaced: data/peepal\\16822317-close-up-of-a-section-of-green-peepal-leaf-texture.jpg\n",
      "Resized and replaced: data/peepal\\178858518.jpg\n",
      "Resized and replaced: data/peepal\\29579318-peepal-leaf-ficus-religiosa.jpg\n",
      "Resized and replaced: data/peepal\\31-2iCEqVEL.jpg\n",
      "Resized and replaced: data/peepal\\31-2iCEqVEL._AC_UF10001000_QL80_.jpg\n",
      "Resized and replaced: data/peepal\\360_F_119736946_92ez1ykSDf9khyXfvIYbLonqpVmuNV6N.jpg\n",
      "Resized and replaced: data/peepal\\360_F_241663511_RQyJxfHeP3cLHyMcEHGFbVEkFtWnWV1o.jpg\n",
      "Resized and replaced: data/peepal\\360_F_304994843_OYttIzMsBRds8OzTmM60yzOn9jNDBIOP.jpg\n",
      "Resized and replaced: data/peepal\\360_F_347308538_jrA4JrdaDCli0QDm4WtknMnAXFhQ4FQd.jpg\n",
      "Resized and replaced: data/peepal\\448c4bfb769531818d884b4576478ac8.jpg\n",
      "Resized and replaced: data/peepal\\476842055.jpg\n",
      "Resized and replaced: data/peepal\\5548b7cf20c1e37064fc3de84d86fd82.jpg\n",
      "Resized and replaced: data/peepal\\61DVLrRaaZL.jpg\n",
      "Resized and replaced: data/peepal\\7cf16d19639f5f587b5342618f51e501.jpg\n",
      "Resized and replaced: data/peepal\\800px-Ficus_religiosa_Bo.jpg\n",
      "Resized and replaced: data/peepal\\also-known-as-the-bodhi-tree-peepal-tree-isolated-on-white-background-vector.jpg\n",
      "Resized and replaced: data/peepal\\ankit-ahir-oVmzO_zVHzg-unsplash.jpg\n",
      "Resized and replaced: data/peepal\\arasa-ilai-peepal-tree-sacred-fig-leaf-powder_compressed.jpg\n",
      "Resized and replaced: data/peepal\\BENEFITS-OF-PEEPAL-LEAF.jpg\n",
      "Resized and replaced: data/peepal\\bo-leaf-with-sunlight-in-the-morning-bodhi-pipal-tree-tree-leaves-free-photo.jpg\n",
      "Resized and replaced: data/peepal\\bodhi-peepal-leaf-from-bodhi-tree_35355-3483.jpg\n",
      "Resized and replaced: data/peepal\\close-up-of-a-peepal-leaf-GEMBR7.jpg\n",
      "Resized and replaced: data/peepal\\close-up-of-a-pipal-leaf-D2EE34.jpg\n",
      "Resized and replaced: data/peepal\\close-up-of-peepal-leaves-rahul-de.jpg\n",
      "Resized and replaced: data/peepal\\close-up-of-peepal-leaves-rahul-de2.jpg\n",
      "Resized and replaced: data/peepal\\desktop-wallpaper-sunset-leaf.jpg\n",
      "Resized and replaced: data/peepal\\eepal-tree-ficus-religiosa-leaf-closeup-shot-details-also-known-as-221949240.jpg\n",
      "Resized and replaced: data/peepal\\esy-010939009.jpg\n",
      "Resized and replaced: data/peepal\\ficus-religiosa-hd-peepal-tree-leaf-nice-blur-background-medicinal-219312013.jpg\n",
      "Resized and replaced: data/peepal\\Ficus_religiosa_Bo.jpg\n",
      "Resized and replaced: data/peepal\\il_300x300.5039599426_81pr.jpg\n",
      "Resized and replaced: data/peepal\\il_fullxfull.2169737161_a5pb.jpg\n",
      "Resized and replaced: data/peepal\\images44.jpg\n",
      "Resized and replaced: data/peepal\\images52.jpg\n",
      "Resized and replaced: data/peepal\\images63.jpg\n",
      "Resized and replaced: data/peepal\\l-tree-of-pushya-nakshatra-cancer-or-kark-rashi-plant-16969202466956_512x512.jpg\n",
      "Resized and replaced: data/peepal\\New_flush_of_Peepal_28_Ficus_religiosa_29.jpg\n",
      "Resized and replaced: data/peepal\\peepal-1_1200x1200.jpg\n",
      "Resized and replaced: data/peepal\\peepal-3585969_1280.jpg\n",
      "Resized and replaced: data/peepal\\Peepal-leaf.jpg\n",
      "Resized and replaced: data/peepal\\Peepal-Tree-Leaf-1-1024x622.jpg\n",
      "Resized and replaced: data/peepal\\peepal-tree-leaf-in-nice-blur-background-medicinal-plant-ficus-religiosa-2FN8RPM.jpg\n",
      "Resized and replaced: data/peepal\\Peepal-Tree-Leaf.jpg\n",
      "Resized and replaced: data/peepal\\peepal-tree4-1.jpg\n",
      "Resized and replaced: data/peepal\\PeepalTree-0013_640x.jpg\n",
      "Resized and replaced: data/peepal\\Peepal_28Ficus_religiosa291.jpg\n",
      "Resized and replaced: data/peepal\\pipal-green-leaf-white-23619348.jpg\n",
      "Resized and replaced: data/peepal\\pipal-or-bo-leaf-isolated-on-white-background-2F9NAMH.jpg\n",
      "Resized and replaced: data/peepal\\Pipal_tree_leaves.jpg\n",
      "Resized and replaced: data/peepal\\pngtree-peepal-leaf-branch-png-image_3660755.jpg\n",
      "Resized and replaced: data/peepal\\reark-3d-peepal-leaf.jpg\n",
      "Resized and replaced: data/peepal\\religiosa-l-pipal-tree-bohhi-tree-bo-tree-peepul-on-white-background-2C7F64T.jpg\n",
      "Resized and replaced: data/peepal\\s-religiosa-seeds_50-gm-product-images-orvabm1vnzt-p592187458-2-202206240513.jpg\n",
      "Resized and replaced: data/peepal\\Significance-of-Peepal-Tree.jpeg\n",
      "Resized and replaced: data/peepal\\some-ayurvedic-facts-of-peepal-tree-with-leaves.jpeg\n",
      "Resized and replaced: data/peepal\\stock-photo-bodhi-leaf-or-peepal-leaf-from-bodhi-tree-sacred-tree-for-buddhists-1916497187.jpg\n",
      "Resized and replaced: data/peepal\\stock-photo-green-leaves-of-sacred-bodhi-peepal-tree-isolated-on-white-background-677348971.jpg\n"
     ]
    }
   ],
   "source": [
    "mango_directory = \"data/peepal\"  # Change this to the path of your 'Chinar_augmented' submain folder\n",
    "\n",
    "for root, dirs, files in os.walk(mango_directory):\n",
    "    for filename in files:\n",
    "        if filename.endswith(('.jpg', '.jpeg', '.png', '.bmp', '.gif', '.JPG')):\n",
    "            filepath = os.path.join(root, filename)\n",
    "            \n",
    "            try:\n",
    "                # Open the image\n",
    "                img = Image.open(filepath)\n",
    "                \n",
    "                # Resize to 500x500 pixels\n",
    "                img = img.resize((500, 500), Image.ANTIALIAS)\n",
    "                \n",
    "                # Save the resized image, overwriting the original\n",
    "                img.save(filepath)\n",
    "                \n",
    "                # Close the image\n",
    "                img.close()\n",
    "                \n",
    "                print(f'Resized and replaced: {filepath}')\n",
    "            except Exception as e:\n",
    "                print(f'Error processing {filepath}: {e}')\n",
    "                continue"
   ]
  },
  {
   "cell_type": "code",
   "execution_count": null,
   "id": "33e1e886",
   "metadata": {},
   "outputs": [],
   "source": []
  }
 ],
 "metadata": {
  "kernelspec": {
   "display_name": "Python 3 (ipykernel)",
   "language": "python",
   "name": "python3"
  },
  "language_info": {
   "codemirror_mode": {
    "name": "ipython",
    "version": 3
   },
   "file_extension": ".py",
   "mimetype": "text/x-python",
   "name": "python",
   "nbconvert_exporter": "python",
   "pygments_lexer": "ipython3",
   "version": "3.9.12"
  }
 },
 "nbformat": 4,
 "nbformat_minor": 5
}
